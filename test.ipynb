{
 "cells": [
  {
   "cell_type": "code",
   "execution_count": 3,
   "metadata": {},
   "outputs": [
    {
     "name": "stdout",
     "output_type": "stream",
     "text": [
      "pandas - 2.2.3\n",
      "numpy - 1.26.4\n",
      "rdkit - 2024.03.6\n",
      "scikit-learn - 1.5.2\n",
      "pickle - 4.0\n",
      "node2vec - 0.5.0\n",
      "colorama - 0.4.6\n"
     ]
    }
   ],
   "source": [
    "import pandas as pd\n",
    "import numpy as np\n",
    "import rdkit\n",
    "import sklearn\n",
    "import pickle\n",
    "import node2vec\n",
    "import colorama\n",
    "\n",
    "print(\"pandas -\", pd.__version__)\n",
    "print(\"numpy -\", np.__version__)\n",
    "print(\"rdkit -\", rdkit.__version__)\n",
    "print(\"scikit-learn -\", sklearn.__version__)\n",
    "print(\"pickle -\", pickle.format_version)\n",
    "print(\"node2vec -\", node2vec.__version__)\n",
    "print(\"colorama -\", colorama.__version__)"
   ]
  },
  {
   "cell_type": "code",
   "execution_count": null,
   "metadata": {},
   "outputs": [],
   "source": []
  }
 ],
 "metadata": {
  "kernelspec": {
   "display_name": "Python 3",
   "language": "python",
   "name": "python3"
  },
  "language_info": {
   "codemirror_mode": {
    "name": "ipython",
    "version": 3
   },
   "file_extension": ".py",
   "mimetype": "text/x-python",
   "name": "python",
   "nbconvert_exporter": "python",
   "pygments_lexer": "ipython3",
   "version": "3.10.11"
  }
 },
 "nbformat": 4,
 "nbformat_minor": 2
}
