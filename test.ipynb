{
 "cells": [
  {
   "cell_type": "code",
   "execution_count": 4,
   "metadata": {},
   "outputs": [],
   "source": [
    "import pandas as pd\n",
    "import networkx as nx\n",
    "from node2vec import Node2Vec\n",
    "from rdkit import Chem\n",
    "from rdkit.Chem import Descriptors, AllChem, MACCSkeys\n",
    "from sklearn.preprocessing import StandardScaler\n",
    "import numpy as np\n",
    "from rdkit.Chem import rdmolops\n",
    "from tqdm import tqdm\n",
    "from IPython.display import clear_output\n",
    "import seaborn as sns \n",
    "import matplotlib.pyplot as plt\n",
    "import os\n"
   ]
  },
  {
   "cell_type": "code",
   "execution_count": null,
   "metadata": {},
   "outputs": [],
   "source": [
    "from rdkit import Chem\n",
    "from rdkit.Chem import Draw\n",
    "from rdkit.Chem.Scaffolds import MurckoScaffold\n",
    "import networkx as nx\n",
    "import matplotlib.pyplot as plt\n",
    "\n",
    "\n",
    "def smiles_to_molecule(smiles):\n",
    "    \"\"\"Converts a SMILES string to an RDKit molecule object.\"\"\"\n",
    "    return Chem.MolFromSmiles(smiles)\n",
    "\n",
    "\n",
    "def generate_scaffold(mol):\n",
    "    \"\"\"Generates the Bemis-Murcko scaffold of a molecule.\"\"\"\n",
    "    return MurckoScaffold.GetScaffoldForMol(mol)\n",
    "\n",
    "\n",
    "def molecule_to_graph(mol):\n",
    "    \"\"\"Converts an RDKit molecule object to a NetworkX graph.\"\"\"\n",
    "    graph = nx.Graph()\n",
    "    for atom in mol.GetAtoms():\n",
    "        graph.add_node(atom.GetIdx(), label=atom.GetSymbol())\n",
    "    for bond in mol.GetBonds():\n",
    "        graph.add_edge(bond.GetBeginAtomIdx(), bond.GetEndAtomIdx())\n",
    "    return graph\n",
    "\n",
    "\n",
    "def draw_combined_image(mol, scaffold, scaffold_graph, filename=\"combined_image.png\"):\n",
    "    \"\"\"Draws the molecule, scaffold, and scaffold graph in one combined image.\"\"\"\n",
    "    # Create the molecule and scaffold images\n",
    "    mol_img = Draw.MolToImage(mol)\n",
    "    scaffold_img = Draw.MolToImage(scaffold)\n",
    "    \n",
    "    # Prepare the graph visualization\n",
    "    plt.figure(figsize=(12, 4))\n",
    "\n",
    "    # Subplot 1: Original Molecule\n",
    "    plt.subplot(1, 3, 1)\n",
    "    plt.imshow(mol_img)\n",
    "    plt.axis('off')\n",
    "    plt.title(\"Original Molecule\")\n",
    "\n",
    "    # Subplot 2: Scaffold\n",
    "    plt.subplot(1, 3, 2)\n",
    "    plt.imshow(scaffold_img)\n",
    "    plt.axis('off')\n",
    "    plt.title(\"Murcko Scaffold\")\n",
    "\n",
    "    # Subplot 3: Scaffold Graph\n",
    "    plt.subplot(1, 3, 3)\n",
    "    pos = nx.spring_layout(scaffold_graph)\n",
    "    labels = nx.get_node_attributes(scaffold_graph, 'label')\n",
    "    nx.draw(scaffold_graph, pos, with_labels=True, labels=labels, node_size=500, node_color=\"lightblue\")\n",
    "    plt.title(\"Scaffold Graph\")\n",
    "\n",
    "    # Save and show the combined image\n",
    "    plt.tight_layout()\n",
    "    plt.savefig(filename)\n",
    "    plt.close()\n",
    "    print(f\"Saved combined image to {filename}\")\n",
    "\n",
    "\n",
    "def main(smiles):\n",
    "    # Step 1: Convert SMILES to molecule\n",
    "    mol = smiles_to_molecule(smiles)\n",
    "    if not mol:\n",
    "        print(\"Invalid SMILES string.\")\n",
    "        return\n",
    "\n",
    "    # Step 2: Generate Bemis-Murcko scaffold\n",
    "    scaffold = generate_scaffold(mol)\n",
    "\n",
    "    # Step 3: Convert scaffold to graph\n",
    "    scaffold_graph = molecule_to_graph(scaffold)\n",
    "\n",
    "    # Step 4: Draw the combined image\n",
    "    draw_combined_image(mol, scaffold, scaffold_graph)\n",
    "\n",
    "\n",
    "# Example usage\n",
    "if __name__ == \"__main__\":\n",
    "    smiles_input = \"CC(=O)Oc1ccccc1C(=O)O\"  # Example SMILES for aspirin\n",
    "    main(smiles_input)\n"
   ]
  },
  {
   "cell_type": "code",
   "execution_count": 2,
   "metadata": {},
   "outputs": [
    {
     "name": "stdout",
     "output_type": "stream",
     "text": [
      "Saved molecule image to molecule.png\n",
      "Saved molecule image to scaffold.png\n",
      "Saved graph image to scaffold_graph.png\n"
     ]
    }
   ],
   "source": [
    "from rdkit import Chem\n",
    "from rdkit.Chem import Draw\n",
    "from rdkit.Chem.Scaffolds import MurckoScaffold\n",
    "import networkx as nx\n",
    "import matplotlib.pyplot as plt\n",
    "\n",
    "\n",
    "def smiles_to_molecule(smiles):\n",
    "    \"\"\"Converts a SMILES string to an RDKit molecule object.\"\"\"\n",
    "    return Chem.MolFromSmiles(smiles)\n",
    "\n",
    "\n",
    "def generate_scaffold(mol):\n",
    "    \"\"\"Generates the Bemis-Murcko scaffold of a molecule.\"\"\"\n",
    "    return MurckoScaffold.GetScaffoldForMol(mol)\n",
    "\n",
    "\n",
    "def molecule_to_graph(mol):\n",
    "    \"\"\"Converts an RDKit molecule object to a NetworkX graph.\"\"\"\n",
    "    graph = nx.Graph()\n",
    "    for atom in mol.GetAtoms():\n",
    "        graph.add_node(atom.GetIdx(), label=atom.GetSymbol())\n",
    "    for bond in mol.GetBonds():\n",
    "        graph.add_edge(bond.GetBeginAtomIdx(), bond.GetEndAtomIdx())\n",
    "    return graph\n",
    "\n",
    "\n",
    "def draw_molecule(mol, filename=\"molecule.png\"):\n",
    "    \"\"\"Draws a molecule and saves it as an image.\"\"\"\n",
    "    img = Draw.MolToImage(mol)\n",
    "    img.save(filename)\n",
    "    print(f\"Saved molecule image to {filename}\")\n",
    "\n",
    "\n",
    "def draw_graph(graph, filename=\"graph.png\"):\n",
    "    \"\"\"Draws a graph using NetworkX and saves it as an image.\"\"\"\n",
    "    plt.figure(figsize=(8, 8))\n",
    "    pos = nx.spring_layout(graph)\n",
    "    labels = nx.get_node_attributes(graph, 'label')\n",
    "    nx.draw(graph, pos, with_labels=True, labels=labels, node_size=500, node_color=\"lightblue\")\n",
    "    plt.savefig(filename)\n",
    "    plt.close()\n",
    "    print(f\"Saved graph image to {filename}\")\n",
    "\n",
    "\n",
    "def main(smiles):\n",
    "    # Step 1: Convert SMILES to molecule\n",
    "    mol = smiles_to_molecule(smiles)\n",
    "    if not mol:\n",
    "        print(\"Invalid SMILES string.\")\n",
    "        return\n",
    "\n",
    "    # Step 2: Generate Bemis-Murcko scaffold\n",
    "    scaffold = generate_scaffold(mol)\n",
    "\n",
    "    # Step 3: Convert scaffold to graph\n",
    "    scaffold_graph = molecule_to_graph(scaffold)\n",
    "\n",
    "    # Step 4: Draw molecule and scaffold images\n",
    "    draw_molecule(mol, \"molecule.png\")\n",
    "    draw_molecule(scaffold, \"scaffold.png\")\n",
    "\n",
    "    # Step 5: Draw scaffold graph\n",
    "    draw_graph(scaffold_graph, \"scaffold_graph.png\")\n",
    "\n",
    "\n",
    "# Example usage\n",
    "if __name__ == \"__main__\":\n",
    "    smiles_input = \"COc1cc2c(cc1OC)C(C(C(=O)N(CCc1ccc(OC)c(OC)c1OC)CCc1ccc(OC)c(OC)c1OC)c1ccccc1)=NCC2.Cl\"  # Example SMILES for aspirin\n",
    "    main(smiles_input)\n"
   ]
  },
  {
   "cell_type": "code",
   "execution_count": 6,
   "metadata": {},
   "outputs": [
    {
     "name": "stdout",
     "output_type": "stream",
     "text": [
      "smiles\n",
      "scalfold\n",
      "graph\n",
      "draw\n"
     ]
    },
    {
     "data": {
      "application/vnd.plotly.v1+json": {
       "config": {
        "plotlyServerURL": "https://plot.ly"
       },
       "data": [
        {
         "hoverinfo": "none",
         "line": {
          "color": "#888",
          "width": 0.5
         },
         "mode": "lines",
         "type": "scatter",
         "x": [
          0.15836648201663292,
          0.033420942340102046,
          null,
          0.15836648201663292,
          0.18593857935764768,
          null,
          0.033420942340102046,
          -0.06975571326832476,
          null,
          -0.06975571326832476,
          -0.0417919315288255,
          null,
          -0.06975571326832476,
          -0.20700236881568804,
          null,
          -0.0417919315288255,
          0.09253248394227648,
          null,
          -0.0417919315288255,
          -0.12586721040709084,
          null,
          0.09253248394227648,
          0.18593857935764768,
          null,
          -0.12586721040709084,
          -0.14154692266340688,
          null,
          -0.12586721040709084,
          -0.21845513200975486,
          null,
          -0.14154692266340688,
          0.028950346603303947,
          null,
          -0.14154692266340688,
          -0.3765474601963178,
          null,
          0.028950346603303947,
          0.1310367759975134,
          null,
          0.028950346603303947,
          0.16037489235006938,
          null,
          0.16037489235006938,
          0.38077480628021243,
          null,
          0.16037489235006938,
          0.0603772292225967,
          null,
          0.38077480628021243,
          0.5865336924974738,
          null,
          0.5865336924974738,
          0.7853525623887639,
          null,
          0.7853525623887639,
          0.8073752668457808,
          null,
          0.7853525623887639,
          0.9457198485135025,
          null,
          0.8073752668457808,
          0.7356784523941259,
          null,
          0.7356784523941259,
          0.8459677224972075,
          null,
          0.8459677224972075,
          0.9735723294818421,
          null,
          0.9735723294818421,
          0.9457198485135025,
          null,
          0.0603772292225967,
          -0.056270341814962474,
          null,
          -0.056270341814962474,
          -0.1911337845575434,
          null,
          -0.1911337845575434,
          -0.3305219335072575,
          null,
          -0.1911337845575434,
          -0.27259618027488897,
          null,
          -0.3305219335072575,
          -0.45655476823222296,
          null,
          -0.45655476823222296,
          -0.4862891772824762,
          null,
          -0.4862891772824762,
          -0.3997053930878603,
          null,
          -0.3997053930878603,
          -0.27259618027488897,
          null,
          -0.3765474601963178,
          -0.5359175757936733,
          null,
          -0.3765474601963178,
          -0.5484531405877391,
          null,
          -0.5359175757936733,
          -0.6908961006347094,
          null,
          -0.6908961006347094,
          -0.7929167098583021,
          null,
          -0.7929167098583021,
          -0.7039447068652996,
          null,
          -0.7039447068652996,
          -0.5484531405877391,
          null,
          -0.21845513200975486,
          -0.26580586134271006,
          null,
          -0.26580586134271006,
          -0.20700236881568804,
          null
         ],
         "y": [
          0.9850852829684776,
          1,
          null,
          0.9850852829684776,
          0.8568414722078871,
          null,
          1,
          0.8815439237307509,
          null,
          0.8815439237307509,
          0.70095318653018,
          null,
          0.8815439237307509,
          0.9015788346062517,
          null,
          0.70095318653018,
          0.7793988815811678,
          null,
          0.70095318653018,
          0.4927227178804571,
          null,
          0.7793988815811678,
          0.8568414722078871,
          null,
          0.4927227178804571,
          0.22582120639551878,
          null,
          0.4927227178804571,
          0.6388343198582039,
          null,
          0.22582120639551878,
          0.005016698320204986,
          null,
          0.22582120639551878,
          0.19215866742702936,
          null,
          0.005016698320204986,
          0.04060761961401763,
          null,
          0.005016698320204986,
          -0.22966436166844298,
          null,
          -0.22966436166844298,
          -0.29880709733594124,
          null,
          -0.22966436166844298,
          -0.4297057852297445,
          null,
          -0.29880709733594124,
          -0.36263380283708313,
          null,
          -0.36263380283708313,
          -0.42419485180885114,
          null,
          -0.42419485180885114,
          -0.5075472972597702,
          null,
          -0.42419485180885114,
          -0.4151473618516213,
          null,
          -0.5075472972597702,
          -0.39403612572430463,
          null,
          -0.39403612572430463,
          -0.303608607411141,
          null,
          -0.303608607411141,
          -0.31245224673567407,
          null,
          -0.31245224673567407,
          -0.4151473618516213,
          null,
          -0.4297057852297445,
          -0.6088402327128579,
          null,
          -0.6088402327128579,
          -0.7597199183049921,
          null,
          -0.7597199183049921,
          -0.7693006524027484,
          null,
          -0.7597199183049921,
          -0.9019949629195392,
          null,
          -0.7693006524027484,
          -0.7876542118901834,
          null,
          -0.7876542118901834,
          -0.8628134044392441,
          null,
          -0.8628134044392441,
          -0.954851774340681,
          null,
          -0.954851774340681,
          -0.9019949629195392,
          null,
          0.19215866742702936,
          0.11915535978450494,
          null,
          0.19215866742702936,
          0.2334725089232494,
          null,
          0.11915535978450494,
          0.09645967339503064,
          null,
          0.09645967339503064,
          0.1555733679450106,
          null,
          0.1555733679450106,
          0.2315751959645224,
          null,
          0.2315751959645224,
          0.2334725089232494,
          null,
          0.6388343198582039,
          0.7861737777403536,
          null,
          0.7861737777403536,
          0.9015788346062517,
          null
         ]
        },
        {
         "marker": {
          "color": [
           "black",
           "black",
           "black",
           "black",
           "black",
           "black",
           "black",
           "black",
           "black",
           "red",
           "blue",
           "black",
           "black",
           "black",
           "black",
           "black",
           "black",
           "black",
           "black",
           "black",
           "black",
           "black",
           "black",
           "black",
           "black",
           "black",
           "black",
           "black",
           "black",
           "black",
           "black",
           "black",
           "black",
           "blue",
           "black",
           "black"
          ],
          "line": {
           "color": "darkblue",
           "width": 2
          },
          "size": 10
         },
         "mode": "markers+text",
         "text": [
          "C",
          "C",
          "C",
          "C",
          "C",
          "C",
          "C",
          "C",
          "C",
          "O",
          "N",
          "C",
          "C",
          "C",
          "C",
          "C",
          "C",
          "C",
          "C",
          "C",
          "C",
          "C",
          "C",
          "C",
          "C",
          "C",
          "C",
          "C",
          "C",
          "C",
          "C",
          "C",
          "C",
          "N",
          "C",
          "C"
         ],
         "textposition": "top center",
         "type": "scatter",
         "x": [
          0.15836648201663292,
          0.033420942340102046,
          -0.06975571326832476,
          -0.0417919315288255,
          0.09253248394227648,
          0.18593857935764768,
          -0.12586721040709084,
          -0.14154692266340688,
          0.028950346603303947,
          0.1310367759975134,
          0.16037489235006938,
          0.38077480628021243,
          0.5865336924974738,
          0.7853525623887639,
          0.8073752668457808,
          0.7356784523941259,
          0.8459677224972075,
          0.9735723294818421,
          0.9457198485135025,
          0.0603772292225967,
          -0.056270341814962474,
          -0.1911337845575434,
          -0.3305219335072575,
          -0.45655476823222296,
          -0.4862891772824762,
          -0.3997053930878603,
          -0.27259618027488897,
          -0.3765474601963178,
          -0.5359175757936733,
          -0.6908961006347094,
          -0.7929167098583021,
          -0.7039447068652996,
          -0.5484531405877391,
          -0.21845513200975486,
          -0.26580586134271006,
          -0.20700236881568804
         ],
         "y": [
          0.9850852829684776,
          1,
          0.8815439237307509,
          0.70095318653018,
          0.7793988815811678,
          0.8568414722078871,
          0.4927227178804571,
          0.22582120639551878,
          0.005016698320204986,
          0.04060761961401763,
          -0.22966436166844298,
          -0.29880709733594124,
          -0.36263380283708313,
          -0.42419485180885114,
          -0.5075472972597702,
          -0.39403612572430463,
          -0.303608607411141,
          -0.31245224673567407,
          -0.4151473618516213,
          -0.4297057852297445,
          -0.6088402327128579,
          -0.7597199183049921,
          -0.7693006524027484,
          -0.7876542118901834,
          -0.8628134044392441,
          -0.954851774340681,
          -0.9019949629195392,
          0.19215866742702936,
          0.11915535978450494,
          0.09645967339503064,
          0.1555733679450106,
          0.2315751959645224,
          0.2334725089232494,
          0.6388343198582039,
          0.7861737777403536,
          0.9015788346062517
         ]
        }
       ],
       "layout": {
        "hovermode": "closest",
        "margin": {
         "b": 0,
         "l": 0,
         "r": 0,
         "t": 40
        },
        "showlegend": false,
        "template": {
         "data": {
          "bar": [
           {
            "error_x": {
             "color": "#2a3f5f"
            },
            "error_y": {
             "color": "#2a3f5f"
            },
            "marker": {
             "line": {
              "color": "#E5ECF6",
              "width": 0.5
             },
             "pattern": {
              "fillmode": "overlay",
              "size": 10,
              "solidity": 0.2
             }
            },
            "type": "bar"
           }
          ],
          "barpolar": [
           {
            "marker": {
             "line": {
              "color": "#E5ECF6",
              "width": 0.5
             },
             "pattern": {
              "fillmode": "overlay",
              "size": 10,
              "solidity": 0.2
             }
            },
            "type": "barpolar"
           }
          ],
          "carpet": [
           {
            "aaxis": {
             "endlinecolor": "#2a3f5f",
             "gridcolor": "white",
             "linecolor": "white",
             "minorgridcolor": "white",
             "startlinecolor": "#2a3f5f"
            },
            "baxis": {
             "endlinecolor": "#2a3f5f",
             "gridcolor": "white",
             "linecolor": "white",
             "minorgridcolor": "white",
             "startlinecolor": "#2a3f5f"
            },
            "type": "carpet"
           }
          ],
          "choropleth": [
           {
            "colorbar": {
             "outlinewidth": 0,
             "ticks": ""
            },
            "type": "choropleth"
           }
          ],
          "contour": [
           {
            "colorbar": {
             "outlinewidth": 0,
             "ticks": ""
            },
            "colorscale": [
             [
              0,
              "#0d0887"
             ],
             [
              0.1111111111111111,
              "#46039f"
             ],
             [
              0.2222222222222222,
              "#7201a8"
             ],
             [
              0.3333333333333333,
              "#9c179e"
             ],
             [
              0.4444444444444444,
              "#bd3786"
             ],
             [
              0.5555555555555556,
              "#d8576b"
             ],
             [
              0.6666666666666666,
              "#ed7953"
             ],
             [
              0.7777777777777778,
              "#fb9f3a"
             ],
             [
              0.8888888888888888,
              "#fdca26"
             ],
             [
              1,
              "#f0f921"
             ]
            ],
            "type": "contour"
           }
          ],
          "contourcarpet": [
           {
            "colorbar": {
             "outlinewidth": 0,
             "ticks": ""
            },
            "type": "contourcarpet"
           }
          ],
          "heatmap": [
           {
            "colorbar": {
             "outlinewidth": 0,
             "ticks": ""
            },
            "colorscale": [
             [
              0,
              "#0d0887"
             ],
             [
              0.1111111111111111,
              "#46039f"
             ],
             [
              0.2222222222222222,
              "#7201a8"
             ],
             [
              0.3333333333333333,
              "#9c179e"
             ],
             [
              0.4444444444444444,
              "#bd3786"
             ],
             [
              0.5555555555555556,
              "#d8576b"
             ],
             [
              0.6666666666666666,
              "#ed7953"
             ],
             [
              0.7777777777777778,
              "#fb9f3a"
             ],
             [
              0.8888888888888888,
              "#fdca26"
             ],
             [
              1,
              "#f0f921"
             ]
            ],
            "type": "heatmap"
           }
          ],
          "heatmapgl": [
           {
            "colorbar": {
             "outlinewidth": 0,
             "ticks": ""
            },
            "colorscale": [
             [
              0,
              "#0d0887"
             ],
             [
              0.1111111111111111,
              "#46039f"
             ],
             [
              0.2222222222222222,
              "#7201a8"
             ],
             [
              0.3333333333333333,
              "#9c179e"
             ],
             [
              0.4444444444444444,
              "#bd3786"
             ],
             [
              0.5555555555555556,
              "#d8576b"
             ],
             [
              0.6666666666666666,
              "#ed7953"
             ],
             [
              0.7777777777777778,
              "#fb9f3a"
             ],
             [
              0.8888888888888888,
              "#fdca26"
             ],
             [
              1,
              "#f0f921"
             ]
            ],
            "type": "heatmapgl"
           }
          ],
          "histogram": [
           {
            "marker": {
             "pattern": {
              "fillmode": "overlay",
              "size": 10,
              "solidity": 0.2
             }
            },
            "type": "histogram"
           }
          ],
          "histogram2d": [
           {
            "colorbar": {
             "outlinewidth": 0,
             "ticks": ""
            },
            "colorscale": [
             [
              0,
              "#0d0887"
             ],
             [
              0.1111111111111111,
              "#46039f"
             ],
             [
              0.2222222222222222,
              "#7201a8"
             ],
             [
              0.3333333333333333,
              "#9c179e"
             ],
             [
              0.4444444444444444,
              "#bd3786"
             ],
             [
              0.5555555555555556,
              "#d8576b"
             ],
             [
              0.6666666666666666,
              "#ed7953"
             ],
             [
              0.7777777777777778,
              "#fb9f3a"
             ],
             [
              0.8888888888888888,
              "#fdca26"
             ],
             [
              1,
              "#f0f921"
             ]
            ],
            "type": "histogram2d"
           }
          ],
          "histogram2dcontour": [
           {
            "colorbar": {
             "outlinewidth": 0,
             "ticks": ""
            },
            "colorscale": [
             [
              0,
              "#0d0887"
             ],
             [
              0.1111111111111111,
              "#46039f"
             ],
             [
              0.2222222222222222,
              "#7201a8"
             ],
             [
              0.3333333333333333,
              "#9c179e"
             ],
             [
              0.4444444444444444,
              "#bd3786"
             ],
             [
              0.5555555555555556,
              "#d8576b"
             ],
             [
              0.6666666666666666,
              "#ed7953"
             ],
             [
              0.7777777777777778,
              "#fb9f3a"
             ],
             [
              0.8888888888888888,
              "#fdca26"
             ],
             [
              1,
              "#f0f921"
             ]
            ],
            "type": "histogram2dcontour"
           }
          ],
          "mesh3d": [
           {
            "colorbar": {
             "outlinewidth": 0,
             "ticks": ""
            },
            "type": "mesh3d"
           }
          ],
          "parcoords": [
           {
            "line": {
             "colorbar": {
              "outlinewidth": 0,
              "ticks": ""
             }
            },
            "type": "parcoords"
           }
          ],
          "pie": [
           {
            "automargin": true,
            "type": "pie"
           }
          ],
          "scatter": [
           {
            "fillpattern": {
             "fillmode": "overlay",
             "size": 10,
             "solidity": 0.2
            },
            "type": "scatter"
           }
          ],
          "scatter3d": [
           {
            "line": {
             "colorbar": {
              "outlinewidth": 0,
              "ticks": ""
             }
            },
            "marker": {
             "colorbar": {
              "outlinewidth": 0,
              "ticks": ""
             }
            },
            "type": "scatter3d"
           }
          ],
          "scattercarpet": [
           {
            "marker": {
             "colorbar": {
              "outlinewidth": 0,
              "ticks": ""
             }
            },
            "type": "scattercarpet"
           }
          ],
          "scattergeo": [
           {
            "marker": {
             "colorbar": {
              "outlinewidth": 0,
              "ticks": ""
             }
            },
            "type": "scattergeo"
           }
          ],
          "scattergl": [
           {
            "marker": {
             "colorbar": {
              "outlinewidth": 0,
              "ticks": ""
             }
            },
            "type": "scattergl"
           }
          ],
          "scattermapbox": [
           {
            "marker": {
             "colorbar": {
              "outlinewidth": 0,
              "ticks": ""
             }
            },
            "type": "scattermapbox"
           }
          ],
          "scatterpolar": [
           {
            "marker": {
             "colorbar": {
              "outlinewidth": 0,
              "ticks": ""
             }
            },
            "type": "scatterpolar"
           }
          ],
          "scatterpolargl": [
           {
            "marker": {
             "colorbar": {
              "outlinewidth": 0,
              "ticks": ""
             }
            },
            "type": "scatterpolargl"
           }
          ],
          "scatterternary": [
           {
            "marker": {
             "colorbar": {
              "outlinewidth": 0,
              "ticks": ""
             }
            },
            "type": "scatterternary"
           }
          ],
          "surface": [
           {
            "colorbar": {
             "outlinewidth": 0,
             "ticks": ""
            },
            "colorscale": [
             [
              0,
              "#0d0887"
             ],
             [
              0.1111111111111111,
              "#46039f"
             ],
             [
              0.2222222222222222,
              "#7201a8"
             ],
             [
              0.3333333333333333,
              "#9c179e"
             ],
             [
              0.4444444444444444,
              "#bd3786"
             ],
             [
              0.5555555555555556,
              "#d8576b"
             ],
             [
              0.6666666666666666,
              "#ed7953"
             ],
             [
              0.7777777777777778,
              "#fb9f3a"
             ],
             [
              0.8888888888888888,
              "#fdca26"
             ],
             [
              1,
              "#f0f921"
             ]
            ],
            "type": "surface"
           }
          ],
          "table": [
           {
            "cells": {
             "fill": {
              "color": "#EBF0F8"
             },
             "line": {
              "color": "white"
             }
            },
            "header": {
             "fill": {
              "color": "#C8D4E3"
             },
             "line": {
              "color": "white"
             }
            },
            "type": "table"
           }
          ]
         },
         "layout": {
          "annotationdefaults": {
           "arrowcolor": "#2a3f5f",
           "arrowhead": 0,
           "arrowwidth": 1
          },
          "autotypenumbers": "strict",
          "coloraxis": {
           "colorbar": {
            "outlinewidth": 0,
            "ticks": ""
           }
          },
          "colorscale": {
           "diverging": [
            [
             0,
             "#8e0152"
            ],
            [
             0.1,
             "#c51b7d"
            ],
            [
             0.2,
             "#de77ae"
            ],
            [
             0.3,
             "#f1b6da"
            ],
            [
             0.4,
             "#fde0ef"
            ],
            [
             0.5,
             "#f7f7f7"
            ],
            [
             0.6,
             "#e6f5d0"
            ],
            [
             0.7,
             "#b8e186"
            ],
            [
             0.8,
             "#7fbc41"
            ],
            [
             0.9,
             "#4d9221"
            ],
            [
             1,
             "#276419"
            ]
           ],
           "sequential": [
            [
             0,
             "#0d0887"
            ],
            [
             0.1111111111111111,
             "#46039f"
            ],
            [
             0.2222222222222222,
             "#7201a8"
            ],
            [
             0.3333333333333333,
             "#9c179e"
            ],
            [
             0.4444444444444444,
             "#bd3786"
            ],
            [
             0.5555555555555556,
             "#d8576b"
            ],
            [
             0.6666666666666666,
             "#ed7953"
            ],
            [
             0.7777777777777778,
             "#fb9f3a"
            ],
            [
             0.8888888888888888,
             "#fdca26"
            ],
            [
             1,
             "#f0f921"
            ]
           ],
           "sequentialminus": [
            [
             0,
             "#0d0887"
            ],
            [
             0.1111111111111111,
             "#46039f"
            ],
            [
             0.2222222222222222,
             "#7201a8"
            ],
            [
             0.3333333333333333,
             "#9c179e"
            ],
            [
             0.4444444444444444,
             "#bd3786"
            ],
            [
             0.5555555555555556,
             "#d8576b"
            ],
            [
             0.6666666666666666,
             "#ed7953"
            ],
            [
             0.7777777777777778,
             "#fb9f3a"
            ],
            [
             0.8888888888888888,
             "#fdca26"
            ],
            [
             1,
             "#f0f921"
            ]
           ]
          },
          "colorway": [
           "#636efa",
           "#EF553B",
           "#00cc96",
           "#ab63fa",
           "#FFA15A",
           "#19d3f3",
           "#FF6692",
           "#B6E880",
           "#FF97FF",
           "#FECB52"
          ],
          "font": {
           "color": "#2a3f5f"
          },
          "geo": {
           "bgcolor": "white",
           "lakecolor": "white",
           "landcolor": "#E5ECF6",
           "showlakes": true,
           "showland": true,
           "subunitcolor": "white"
          },
          "hoverlabel": {
           "align": "left"
          },
          "hovermode": "closest",
          "mapbox": {
           "style": "light"
          },
          "paper_bgcolor": "white",
          "plot_bgcolor": "#E5ECF6",
          "polar": {
           "angularaxis": {
            "gridcolor": "white",
            "linecolor": "white",
            "ticks": ""
           },
           "bgcolor": "#E5ECF6",
           "radialaxis": {
            "gridcolor": "white",
            "linecolor": "white",
            "ticks": ""
           }
          },
          "scene": {
           "xaxis": {
            "backgroundcolor": "#E5ECF6",
            "gridcolor": "white",
            "gridwidth": 2,
            "linecolor": "white",
            "showbackground": true,
            "ticks": "",
            "zerolinecolor": "white"
           },
           "yaxis": {
            "backgroundcolor": "#E5ECF6",
            "gridcolor": "white",
            "gridwidth": 2,
            "linecolor": "white",
            "showbackground": true,
            "ticks": "",
            "zerolinecolor": "white"
           },
           "zaxis": {
            "backgroundcolor": "#E5ECF6",
            "gridcolor": "white",
            "gridwidth": 2,
            "linecolor": "white",
            "showbackground": true,
            "ticks": "",
            "zerolinecolor": "white"
           }
          },
          "shapedefaults": {
           "line": {
            "color": "#2a3f5f"
           }
          },
          "ternary": {
           "aaxis": {
            "gridcolor": "white",
            "linecolor": "white",
            "ticks": ""
           },
           "baxis": {
            "gridcolor": "white",
            "linecolor": "white",
            "ticks": ""
           },
           "bgcolor": "#E5ECF6",
           "caxis": {
            "gridcolor": "white",
            "linecolor": "white",
            "ticks": ""
           }
          },
          "title": {
           "x": 0.05
          },
          "xaxis": {
           "automargin": true,
           "gridcolor": "white",
           "linecolor": "white",
           "ticks": "",
           "title": {
            "standoff": 15
           },
           "zerolinecolor": "white",
           "zerolinewidth": 2
          },
          "yaxis": {
           "automargin": true,
           "gridcolor": "white",
           "linecolor": "white",
           "ticks": "",
           "title": {
            "standoff": 15
           },
           "zerolinecolor": "white",
           "zerolinewidth": 2
          }
         }
        },
        "xaxis": {
         "showgrid": false,
         "visible": false,
         "zeroline": false
        },
        "yaxis": {
         "showgrid": false,
         "visible": false,
         "zeroline": false
        }
       }
      }
     },
     "metadata": {},
     "output_type": "display_data"
    }
   ],
   "source": [
    "from rdkit import Chem\n",
    "from rdkit.Chem import Draw\n",
    "from rdkit.Chem.Scaffolds import MurckoScaffold\n",
    "import networkx as nx\n",
    "import plotly.graph_objects as go\n",
    "import plotly.io as pio\n",
    "\n",
    "\n",
    "def smiles_to_molecule(smiles):\n",
    "    \"\"\"Converts a SMILES string to an RDKit molecule object.\"\"\"\n",
    "    return Chem.MolFromSmiles(smiles)\n",
    "\n",
    "\n",
    "def generate_scaffold(mol):\n",
    "    \"\"\"Generates the Bemis-Murcko scaffold of a molecule.\"\"\"\n",
    "    return MurckoScaffold.GetScaffoldForMol(mol)\n",
    "\n",
    "\n",
    "def molecule_to_graph(mol):\n",
    "    \"\"\"Converts an RDKit molecule object to a NetworkX graph.\"\"\"\n",
    "    graph = nx.Graph()\n",
    "    for atom in mol.GetAtoms():\n",
    "        graph.add_node(atom.GetIdx(), label=atom.GetSymbol())\n",
    "    for bond in mol.GetBonds():\n",
    "        graph.add_edge(bond.GetBeginAtomIdx(), bond.GetEndAtomIdx())\n",
    "    return graph\n",
    "\n",
    "\n",
    "def get_atom_color(atom_symbol):\n",
    "    \"\"\"Returns a color for each atom type.\"\"\"\n",
    "    atom_colors = {\n",
    "        \"C\": \"black\",\n",
    "        \"O\": \"red\",\n",
    "        \"N\": \"blue\",\n",
    "        \"S\": \"yellow\",\n",
    "    }\n",
    "    return atom_colors.get(atom_symbol, \"lightblue\")\n",
    "\n",
    "\n",
    "def draw_graph_plotly(graph, title=\"Graph Visualization\", filename=\"graph_image.png\"):\n",
    "    \"\"\"Draws a graph using Plotly, displays it interactively, and saves it as an image.\"\"\"\n",
    "    pos = nx.spring_layout(graph)  # Layout for positioning nodes\n",
    "\n",
    "    # Extract node positions and labels\n",
    "    x_nodes = [pos[node][0] for node in graph.nodes()]\n",
    "    y_nodes = [pos[node][1] for node in graph.nodes()]\n",
    "    labels = nx.get_node_attributes(graph, 'label')\n",
    "\n",
    "    # Assign colors to nodes based on atom types\n",
    "    node_colors = [get_atom_color(labels[node]) for node in graph.nodes()]\n",
    "\n",
    "    # Create edges\n",
    "    edge_x = []\n",
    "    edge_y = []\n",
    "    for edge in graph.edges():\n",
    "        x0, y0 = pos[edge[0]]\n",
    "        x1, y1 = pos[edge[1]]\n",
    "        edge_x.extend([x0, x1, None])\n",
    "        edge_y.extend([y0, y1, None])\n",
    "\n",
    "    # Create edge traces\n",
    "    edge_trace = go.Scatter(\n",
    "        x=edge_x,\n",
    "        y=edge_y,\n",
    "        line=dict(width=0.5, color='#888'),\n",
    "        hoverinfo='none',\n",
    "        mode='lines'\n",
    "    )\n",
    "\n",
    "    # Create node traces\n",
    "    node_trace = go.Scatter(\n",
    "        x=x_nodes,\n",
    "        y=y_nodes,\n",
    "        mode='markers+text',\n",
    "        text=[labels[node] for node in graph.nodes()],\n",
    "        textposition=\"top center\",\n",
    "        marker=dict(\n",
    "            size=10,\n",
    "            color=node_colors,\n",
    "            line=dict(width=2, color='darkblue')\n",
    "        )\n",
    "    )\n",
    "\n",
    "    # Create the figure\n",
    "    fig = go.Figure(data=[edge_trace, node_trace],\n",
    "                    layout=go.Layout(\n",
    "                        showlegend=False,\n",
    "                        hovermode='closest',\n",
    "                        margin=dict(b=0, l=0, r=0, t=40),\n",
    "                        xaxis=dict(showgrid=False, zeroline=False, visible=False),\n",
    "                        yaxis=dict(showgrid=False, zeroline=False, visible=False)\n",
    "                    ))\n",
    "\n",
    "    # Save the figure as a static image\n",
    "    fig.show()\n",
    "    # Update the layout to make the figure bigger\n",
    "    fig.update_layout(\n",
    "        width=300,  # Set the width of the figure\n",
    "        height=300  # Set the height of the figure\n",
    "    )\n",
    "\n",
    "def main(smiles):\n",
    "    # Step 1: Convert SMILES to molecule\n",
    "    print('smiles')\n",
    "    mol = smiles_to_molecule(smiles)\n",
    "    if not mol:\n",
    "        print(\"Invalid SMILES string.\")\n",
    "        return\n",
    "\n",
    "    print('scalfold')\n",
    "\n",
    "    # Step 2: Generate Bemis-Murcko scaffold\n",
    "    scaffold = generate_scaffold(mol)\n",
    "\n",
    "    print('graph')\n",
    "    # Step 3: Convert scaffold to graph\n",
    "    scaffold_graph = molecule_to_graph(scaffold)\n",
    "\n",
    "    # Step 4: Draw the scaffold graph interactively using Plotly and save the image\n",
    "    print('draw')\n",
    "    draw_graph_plotly(scaffold_graph, title=\"Scaffold Graph\", filename=\"scaffold_graph.png\")\n",
    "\n",
    "\n",
    "# Example usage\n",
    "if __name__ == \"__main__\":\n",
    "    smiles_input = \"COc1cc2c(cc1OC)C(C(C(=O)N(CCc1ccc(OC)c(OC)c1OC)CCc1ccc(OC)c(OC)c1OC)c1ccccc1)=NCC2.Cl\"  # Example SMILES\n",
    "    main(smiles_input)\n"
   ]
  },
  {
   "cell_type": "code",
   "execution_count": null,
   "metadata": {},
   "outputs": [],
   "source": []
  }
 ],
 "metadata": {
  "kernelspec": {
   "display_name": "Python 3",
   "language": "python",
   "name": "python3"
  },
  "language_info": {
   "codemirror_mode": {
    "name": "ipython",
    "version": 3
   },
   "file_extension": ".py",
   "mimetype": "text/x-python",
   "name": "python",
   "nbconvert_exporter": "python",
   "pygments_lexer": "ipython3",
   "version": "3.10.11"
  }
 },
 "nbformat": 4,
 "nbformat_minor": 2
}
